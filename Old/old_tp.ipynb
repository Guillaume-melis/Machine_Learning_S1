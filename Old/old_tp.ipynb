{
 "cells": [
  {
   "cell_type": "code",
   "execution_count": 73,
   "id": "1f85f9c4",
   "metadata": {},
   "outputs": [],
   "source": [
    "import pandas as pd\n",
    "import numpy as np \n",
    "import matplotlib.pyplot as plt\n",
    "from matplotlib.colors import ListedColormap\n",
    "from sklearn.model_selection import train_test_split, KFold, cross_validate, GridSearchCV\n",
    "from sklearn.preprocessing import StandardScaler\n",
    "from sklearn.pipeline import make_pipeline\n",
    "from sklearn.metrics import accuracy_score, precision_score, recall_score, f1_score, auc, roc_curve, classification_report, confusion_matrix\n",
    "from sklearn.discriminant_analysis import LinearDiscriminantAnalysis, QuadraticDiscriminantAnalysis\n",
    "from sklearn import linear_model\n",
    "from sklearn.neighbors import KNeighborsClassifier"
   ]
  },
  {
   "cell_type": "markdown",
   "id": "bd4cc5ae",
   "metadata": {},
   "source": [
    "# Data Exploration"
   ]
  },
  {
   "cell_type": "code",
   "execution_count": 8,
   "id": "b773daca",
   "metadata": {},
   "outputs": [
    {
     "data": {
      "application/vnd.microsoft.datawrangler.viewer.v0+json": {
       "columns": [
        {
         "name": "index",
         "rawType": "int64",
         "type": "integer"
        },
        {
         "name": "time",
         "rawType": "object",
         "type": "string"
        },
        {
         "name": "t2m",
         "rawType": "float64",
         "type": "float"
        },
        {
         "name": "u10",
         "rawType": "float64",
         "type": "float"
        },
        {
         "name": "v10",
         "rawType": "float64",
         "type": "float"
        },
        {
         "name": "SST",
         "rawType": "float64",
         "type": "float"
        },
        {
         "name": "SIC",
         "rawType": "float64",
         "type": "float"
        },
        {
         "name": "r1_MAR",
         "rawType": "float64",
         "type": "float"
        },
        {
         "name": "r2_MAR",
         "rawType": "float64",
         "type": "float"
        },
        {
         "name": "r3_MAR",
         "rawType": "float64",
         "type": "float"
        },
        {
         "name": "r4_MAR",
         "rawType": "float64",
         "type": "float"
        },
        {
         "name": "r5_MAR",
         "rawType": "float64",
         "type": "float"
        }
       ],
       "ref": "0ad9b915-3796-42d4-a360-59e5e2a71c46",
       "rows": [
        [
         "0",
         "2013-01-01",
         "-21.92693125626548",
         "-0.9739935626104376",
         "3.149093653775072",
         "-1.6905107319200852",
         "90.74570971797814",
         "0.0345365151682178",
         "0.03334509210234",
         "0.0",
         "0.0",
         "0.0"
        ],
        [
         "1",
         "2013-01-02",
         "-23.6961947187435",
         "-6.502907709842319",
         "2.4948936062963085",
         "-1.6905107319200852",
         "88.50297994135497",
         "0.0345271287431404",
         "0.033326095852561",
         "0.0",
         "0.0",
         "0.0"
        ],
        [
         "2",
         "2013-01-03",
         "-25.64402653532312",
         "-3.55741146266294",
         "1.0254857276328693",
         "-1.689860434103764",
         "88.734090839417",
         "0.0345231887020154",
         "0.0333209425659343",
         "0.0",
         "0.0",
         "0.0"
        ],
        [
         "3",
         "2013-01-04",
         "-23.56688660025614",
         "-1.8880747886393323",
         "-3.486121853684402",
         "-1.6905107319200852",
         "89.14957626975811",
         "0.0345085281352291",
         "0.0333061177014262",
         "0.0",
         "0.0",
         "0.0"
        ],
        [
         "4",
         "2013-01-05",
         "-22.897768399829403",
         "-2.7488438653980123",
         "-3.491206310011957",
         "-1.689860434103764",
         "91.61395504358136",
         "0.0344923109680408",
         "0.0332901264557072",
         "0.0",
         "0.0",
         "0.0"
        ]
       ],
       "shape": {
        "columns": 11,
        "rows": 5
       }
      },
      "text/html": [
       "<div>\n",
       "<style scoped>\n",
       "    .dataframe tbody tr th:only-of-type {\n",
       "        vertical-align: middle;\n",
       "    }\n",
       "\n",
       "    .dataframe tbody tr th {\n",
       "        vertical-align: top;\n",
       "    }\n",
       "\n",
       "    .dataframe thead th {\n",
       "        text-align: right;\n",
       "    }\n",
       "</style>\n",
       "<table border=\"1\" class=\"dataframe\">\n",
       "  <thead>\n",
       "    <tr style=\"text-align: right;\">\n",
       "      <th></th>\n",
       "      <th>time</th>\n",
       "      <th>t2m</th>\n",
       "      <th>u10</th>\n",
       "      <th>v10</th>\n",
       "      <th>SST</th>\n",
       "      <th>SIC</th>\n",
       "      <th>r1_MAR</th>\n",
       "      <th>r2_MAR</th>\n",
       "      <th>r3_MAR</th>\n",
       "      <th>r4_MAR</th>\n",
       "      <th>r5_MAR</th>\n",
       "    </tr>\n",
       "  </thead>\n",
       "  <tbody>\n",
       "    <tr>\n",
       "      <th>0</th>\n",
       "      <td>2013-01-01</td>\n",
       "      <td>-21.926931</td>\n",
       "      <td>-0.973994</td>\n",
       "      <td>3.149094</td>\n",
       "      <td>-1.690511</td>\n",
       "      <td>90.745710</td>\n",
       "      <td>0.034537</td>\n",
       "      <td>0.033345</td>\n",
       "      <td>0.0</td>\n",
       "      <td>0.0</td>\n",
       "      <td>0.0</td>\n",
       "    </tr>\n",
       "    <tr>\n",
       "      <th>1</th>\n",
       "      <td>2013-01-02</td>\n",
       "      <td>-23.696195</td>\n",
       "      <td>-6.502908</td>\n",
       "      <td>2.494894</td>\n",
       "      <td>-1.690511</td>\n",
       "      <td>88.502980</td>\n",
       "      <td>0.034527</td>\n",
       "      <td>0.033326</td>\n",
       "      <td>0.0</td>\n",
       "      <td>0.0</td>\n",
       "      <td>0.0</td>\n",
       "    </tr>\n",
       "    <tr>\n",
       "      <th>2</th>\n",
       "      <td>2013-01-03</td>\n",
       "      <td>-25.644027</td>\n",
       "      <td>-3.557411</td>\n",
       "      <td>1.025486</td>\n",
       "      <td>-1.689860</td>\n",
       "      <td>88.734091</td>\n",
       "      <td>0.034523</td>\n",
       "      <td>0.033321</td>\n",
       "      <td>0.0</td>\n",
       "      <td>0.0</td>\n",
       "      <td>0.0</td>\n",
       "    </tr>\n",
       "    <tr>\n",
       "      <th>3</th>\n",
       "      <td>2013-01-04</td>\n",
       "      <td>-23.566887</td>\n",
       "      <td>-1.888075</td>\n",
       "      <td>-3.486122</td>\n",
       "      <td>-1.690511</td>\n",
       "      <td>89.149576</td>\n",
       "      <td>0.034509</td>\n",
       "      <td>0.033306</td>\n",
       "      <td>0.0</td>\n",
       "      <td>0.0</td>\n",
       "      <td>0.0</td>\n",
       "    </tr>\n",
       "    <tr>\n",
       "      <th>4</th>\n",
       "      <td>2013-01-05</td>\n",
       "      <td>-22.897768</td>\n",
       "      <td>-2.748844</td>\n",
       "      <td>-3.491206</td>\n",
       "      <td>-1.689860</td>\n",
       "      <td>91.613955</td>\n",
       "      <td>0.034492</td>\n",
       "      <td>0.033290</td>\n",
       "      <td>0.0</td>\n",
       "      <td>0.0</td>\n",
       "      <td>0.0</td>\n",
       "    </tr>\n",
       "  </tbody>\n",
       "</table>\n",
       "</div>"
      ],
      "text/plain": [
       "         time        t2m       u10       v10       SST        SIC    r1_MAR  \\\n",
       "0  2013-01-01 -21.926931 -0.973994  3.149094 -1.690511  90.745710  0.034537   \n",
       "1  2013-01-02 -23.696195 -6.502908  2.494894 -1.690511  88.502980  0.034527   \n",
       "2  2013-01-03 -25.644027 -3.557411  1.025486 -1.689860  88.734091  0.034523   \n",
       "3  2013-01-04 -23.566887 -1.888075 -3.486122 -1.690511  89.149576  0.034509   \n",
       "4  2013-01-05 -22.897768 -2.748844 -3.491206 -1.689860  91.613955  0.034492   \n",
       "\n",
       "     r2_MAR  r3_MAR  r4_MAR  r5_MAR  \n",
       "0  0.033345     0.0     0.0     0.0  \n",
       "1  0.033326     0.0     0.0     0.0  \n",
       "2  0.033321     0.0     0.0     0.0  \n",
       "3  0.033306     0.0     0.0     0.0  \n",
       "4  0.033290     0.0     0.0     0.0  "
      ]
     },
     "execution_count": 8,
     "metadata": {},
     "output_type": "execute_result"
    }
   ],
   "source": [
    "X = pd.read_csv(\"data_Features.csv\")\n",
    "X.head()"
   ]
  },
  {
   "cell_type": "code",
   "execution_count": 30,
   "id": "04854b35",
   "metadata": {},
   "outputs": [
    {
     "data": {
      "application/vnd.microsoft.datawrangler.viewer.v0+json": {
       "columns": [
        {
         "name": "index",
         "rawType": "object",
         "type": "string"
        },
        {
         "name": "t2m",
         "rawType": "float64",
         "type": "float"
        },
        {
         "name": "u10",
         "rawType": "float64",
         "type": "float"
        },
        {
         "name": "v10",
         "rawType": "float64",
         "type": "float"
        },
        {
         "name": "SST",
         "rawType": "float64",
         "type": "float"
        },
        {
         "name": "SIC",
         "rawType": "float64",
         "type": "float"
        },
        {
         "name": "r1_MAR",
         "rawType": "float64",
         "type": "float"
        },
        {
         "name": "r2_MAR",
         "rawType": "float64",
         "type": "float"
        },
        {
         "name": "r3_MAR",
         "rawType": "float64",
         "type": "float"
        },
        {
         "name": "r4_MAR",
         "rawType": "float64",
         "type": "float"
        },
        {
         "name": "r5_MAR",
         "rawType": "float64",
         "type": "float"
        }
       ],
       "ref": "15d910b6-5a80-47b9-a972-b9591122c150",
       "rows": [
        [
         "count",
         "2556.0",
         "2556.0",
         "2556.0",
         "2556.0",
         "2556.0",
         "2556.0",
         "2556.0",
         "2556.0",
         "2556.0",
         "2556.0"
        ],
        [
         "mean",
         "-10.190040117134181",
         "0.13964755967845194",
         "0.6263506013226823",
         "-0.8589223001121833",
         "73.26780786324981",
         "18.78927510765519",
         "11.52236247512696",
         "1.328739576075334",
         "4.382247519567024",
         "5.191285580385894"
        ],
        [
         "std",
         "10.340582832951357",
         "5.013640056138763",
         "3.955417476113667",
         "1.4461652052241698",
         "29.25072367495658",
         "47.70360007226689",
         "27.942124260236902",
         "3.3934522769017477",
         "12.971517989032488",
         "13.406971991054844"
        ],
        [
         "min",
         "-32.01912202773235",
         "-13.846656271814435",
         "-12.316127675871854",
         "-1.6924616253690488",
         "0.0",
         "0.0",
         "0.0",
         "0.0",
         "0.0",
         "0.0"
        ],
        [
         "25%",
         "-19.87750020373148",
         "-3.610168277044923",
         "-2.079422269727477",
         "-1.689860434103764",
         "70.0",
         "0.12379838337145126",
         "0.121436506270869",
         "0.0",
         "0.0",
         "0.0"
        ],
        [
         "50%",
         "-9.596478529076705",
         "-0.1870840259865349",
         "0.9127802790387296",
         "-1.689860434103764",
         "84.60176917989418",
         "0.4818696755806329",
         "0.48186967557377",
         "0.0",
         "0.0",
         "0.0"
        ],
        [
         "75%",
         "0.16782379908286768",
         "3.8074398250619708",
         "3.4833966573118236",
         "-0.2975728093634302",
         "90.3623192865015",
         "4.080174495350292",
         "3.961181294291798",
         "0.00441310066519875",
         "0.0101477008742043",
         "0.00015027357960712502"
        ],
        [
         "max",
         "7.840618623454645",
         "14.640912824680244",
         "12.811255494905716",
         "6.054536260446866",
         "99.50068177487884",
         "479.722173660282",
         "281.67338905097307",
         "23.241790713663462",
         "115.87657412775906",
         "88.05431761315332"
        ]
       ],
       "shape": {
        "columns": 10,
        "rows": 8
       }
      },
      "text/html": [
       "<div>\n",
       "<style scoped>\n",
       "    .dataframe tbody tr th:only-of-type {\n",
       "        vertical-align: middle;\n",
       "    }\n",
       "\n",
       "    .dataframe tbody tr th {\n",
       "        vertical-align: top;\n",
       "    }\n",
       "\n",
       "    .dataframe thead th {\n",
       "        text-align: right;\n",
       "    }\n",
       "</style>\n",
       "<table border=\"1\" class=\"dataframe\">\n",
       "  <thead>\n",
       "    <tr style=\"text-align: right;\">\n",
       "      <th></th>\n",
       "      <th>t2m</th>\n",
       "      <th>u10</th>\n",
       "      <th>v10</th>\n",
       "      <th>SST</th>\n",
       "      <th>SIC</th>\n",
       "      <th>r1_MAR</th>\n",
       "      <th>r2_MAR</th>\n",
       "      <th>r3_MAR</th>\n",
       "      <th>r4_MAR</th>\n",
       "      <th>r5_MAR</th>\n",
       "    </tr>\n",
       "  </thead>\n",
       "  <tbody>\n",
       "    <tr>\n",
       "      <th>count</th>\n",
       "      <td>2556.000000</td>\n",
       "      <td>2556.000000</td>\n",
       "      <td>2556.000000</td>\n",
       "      <td>2556.000000</td>\n",
       "      <td>2556.000000</td>\n",
       "      <td>2556.000000</td>\n",
       "      <td>2556.000000</td>\n",
       "      <td>2556.000000</td>\n",
       "      <td>2556.000000</td>\n",
       "      <td>2556.000000</td>\n",
       "    </tr>\n",
       "    <tr>\n",
       "      <th>mean</th>\n",
       "      <td>-10.190040</td>\n",
       "      <td>0.139648</td>\n",
       "      <td>0.626351</td>\n",
       "      <td>-0.858922</td>\n",
       "      <td>73.267808</td>\n",
       "      <td>18.789275</td>\n",
       "      <td>11.522362</td>\n",
       "      <td>1.328740</td>\n",
       "      <td>4.382248</td>\n",
       "      <td>5.191286</td>\n",
       "    </tr>\n",
       "    <tr>\n",
       "      <th>std</th>\n",
       "      <td>10.340583</td>\n",
       "      <td>5.013640</td>\n",
       "      <td>3.955417</td>\n",
       "      <td>1.446165</td>\n",
       "      <td>29.250724</td>\n",
       "      <td>47.703600</td>\n",
       "      <td>27.942124</td>\n",
       "      <td>3.393452</td>\n",
       "      <td>12.971518</td>\n",
       "      <td>13.406972</td>\n",
       "    </tr>\n",
       "    <tr>\n",
       "      <th>min</th>\n",
       "      <td>-32.019122</td>\n",
       "      <td>-13.846656</td>\n",
       "      <td>-12.316128</td>\n",
       "      <td>-1.692462</td>\n",
       "      <td>0.000000</td>\n",
       "      <td>0.000000</td>\n",
       "      <td>0.000000</td>\n",
       "      <td>0.000000</td>\n",
       "      <td>0.000000</td>\n",
       "      <td>0.000000</td>\n",
       "    </tr>\n",
       "    <tr>\n",
       "      <th>25%</th>\n",
       "      <td>-19.877500</td>\n",
       "      <td>-3.610168</td>\n",
       "      <td>-2.079422</td>\n",
       "      <td>-1.689860</td>\n",
       "      <td>70.000000</td>\n",
       "      <td>0.123798</td>\n",
       "      <td>0.121437</td>\n",
       "      <td>0.000000</td>\n",
       "      <td>0.000000</td>\n",
       "      <td>0.000000</td>\n",
       "    </tr>\n",
       "    <tr>\n",
       "      <th>50%</th>\n",
       "      <td>-9.596479</td>\n",
       "      <td>-0.187084</td>\n",
       "      <td>0.912780</td>\n",
       "      <td>-1.689860</td>\n",
       "      <td>84.601769</td>\n",
       "      <td>0.481870</td>\n",
       "      <td>0.481870</td>\n",
       "      <td>0.000000</td>\n",
       "      <td>0.000000</td>\n",
       "      <td>0.000000</td>\n",
       "    </tr>\n",
       "    <tr>\n",
       "      <th>75%</th>\n",
       "      <td>0.167824</td>\n",
       "      <td>3.807440</td>\n",
       "      <td>3.483397</td>\n",
       "      <td>-0.297573</td>\n",
       "      <td>90.362319</td>\n",
       "      <td>4.080174</td>\n",
       "      <td>3.961181</td>\n",
       "      <td>0.004413</td>\n",
       "      <td>0.010148</td>\n",
       "      <td>0.000150</td>\n",
       "    </tr>\n",
       "    <tr>\n",
       "      <th>max</th>\n",
       "      <td>7.840619</td>\n",
       "      <td>14.640913</td>\n",
       "      <td>12.811255</td>\n",
       "      <td>6.054536</td>\n",
       "      <td>99.500682</td>\n",
       "      <td>479.722174</td>\n",
       "      <td>281.673389</td>\n",
       "      <td>23.241791</td>\n",
       "      <td>115.876574</td>\n",
       "      <td>88.054318</td>\n",
       "    </tr>\n",
       "  </tbody>\n",
       "</table>\n",
       "</div>"
      ],
      "text/plain": [
       "               t2m          u10          v10          SST          SIC  \\\n",
       "count  2556.000000  2556.000000  2556.000000  2556.000000  2556.000000   \n",
       "mean    -10.190040     0.139648     0.626351    -0.858922    73.267808   \n",
       "std      10.340583     5.013640     3.955417     1.446165    29.250724   \n",
       "min     -32.019122   -13.846656   -12.316128    -1.692462     0.000000   \n",
       "25%     -19.877500    -3.610168    -2.079422    -1.689860    70.000000   \n",
       "50%      -9.596479    -0.187084     0.912780    -1.689860    84.601769   \n",
       "75%       0.167824     3.807440     3.483397    -0.297573    90.362319   \n",
       "max       7.840619    14.640913    12.811255     6.054536    99.500682   \n",
       "\n",
       "            r1_MAR       r2_MAR       r3_MAR       r4_MAR       r5_MAR  \n",
       "count  2556.000000  2556.000000  2556.000000  2556.000000  2556.000000  \n",
       "mean     18.789275    11.522362     1.328740     4.382248     5.191286  \n",
       "std      47.703600    27.942124     3.393452    12.971518    13.406972  \n",
       "min       0.000000     0.000000     0.000000     0.000000     0.000000  \n",
       "25%       0.123798     0.121437     0.000000     0.000000     0.000000  \n",
       "50%       0.481870     0.481870     0.000000     0.000000     0.000000  \n",
       "75%       4.080174     3.961181     0.004413     0.010148     0.000150  \n",
       "max     479.722174   281.673389    23.241791   115.876574    88.054318  "
      ]
     },
     "execution_count": 30,
     "metadata": {},
     "output_type": "execute_result"
    }
   ],
   "source": [
    "X.describe()"
   ]
  },
  {
   "cell_type": "code",
   "execution_count": null,
   "id": "9e32327a",
   "metadata": {},
   "outputs": [],
   "source": [
    "y = pd.read_csv(\"data_Targets.csv\")"
   ]
  },
  {
   "cell_type": "code",
   "execution_count": 31,
   "id": "74131081",
   "metadata": {},
   "outputs": [
    {
     "data": {
      "application/vnd.microsoft.datawrangler.viewer.v0+json": {
       "columns": [
        {
         "name": "index",
         "rawType": "object",
         "type": "string"
        },
        {
         "name": "0",
         "rawType": "object",
         "type": "unknown"
        }
       ],
       "ref": "ee2321f2-a91a-45c4-98f2-93d6e32f1cdc",
       "rows": [
        [
         "time",
         "object"
        ],
        [
         "t2m",
         "float64"
        ],
        [
         "u10",
         "float64"
        ],
        [
         "v10",
         "float64"
        ],
        [
         "SST",
         "float64"
        ],
        [
         "SIC",
         "float64"
        ],
        [
         "r1_MAR",
         "float64"
        ],
        [
         "r2_MAR",
         "float64"
        ],
        [
         "r3_MAR",
         "float64"
        ],
        [
         "r4_MAR",
         "float64"
        ],
        [
         "r5_MAR",
         "float64"
        ]
       ],
       "shape": {
        "columns": 1,
        "rows": 11
       }
      },
      "text/plain": [
       "time       object\n",
       "t2m       float64\n",
       "u10       float64\n",
       "v10       float64\n",
       "SST       float64\n",
       "SIC       float64\n",
       "r1_MAR    float64\n",
       "r2_MAR    float64\n",
       "r3_MAR    float64\n",
       "r4_MAR    float64\n",
       "r5_MAR    float64\n",
       "dtype: object"
      ]
     },
     "execution_count": 31,
     "metadata": {},
     "output_type": "execute_result"
    }
   ],
   "source": [
    "X.dtypes"
   ]
  },
  {
   "cell_type": "code",
   "execution_count": 12,
   "id": "7aad4ac3",
   "metadata": {},
   "outputs": [
    {
     "data": {
      "application/vnd.microsoft.datawrangler.viewer.v0+json": {
       "columns": [
        {
         "name": "index",
         "rawType": "int64",
         "type": "integer"
        },
        {
         "name": "Unnamed: 0",
         "rawType": "object",
         "type": "string"
        },
        {
         "name": "Y1",
         "rawType": "int64",
         "type": "integer"
        },
        {
         "name": "Y3",
         "rawType": "int64",
         "type": "integer"
        },
        {
         "name": "Y4",
         "rawType": "int64",
         "type": "integer"
        },
        {
         "name": "Y5",
         "rawType": "int64",
         "type": "integer"
        }
       ],
       "ref": "39555acf-4fa8-4236-b8b7-347fd36a4dbe",
       "rows": [
        [
         "0",
         "2013-01-01",
         "0",
         "5",
         "0",
         "0"
        ],
        [
         "1",
         "2013-01-02",
         "0",
         "0",
         "0",
         "0"
        ],
        [
         "2",
         "2013-01-03",
         "0",
         "0",
         "0",
         "0"
        ],
        [
         "3",
         "2013-01-04",
         "0",
         "2",
         "0",
         "0"
        ],
        [
         "4",
         "2013-01-05",
         "0",
         "0",
         "0",
         "0"
        ]
       ],
       "shape": {
        "columns": 5,
        "rows": 5
       }
      },
      "text/html": [
       "<div>\n",
       "<style scoped>\n",
       "    .dataframe tbody tr th:only-of-type {\n",
       "        vertical-align: middle;\n",
       "    }\n",
       "\n",
       "    .dataframe tbody tr th {\n",
       "        vertical-align: top;\n",
       "    }\n",
       "\n",
       "    .dataframe thead th {\n",
       "        text-align: right;\n",
       "    }\n",
       "</style>\n",
       "<table border=\"1\" class=\"dataframe\">\n",
       "  <thead>\n",
       "    <tr style=\"text-align: right;\">\n",
       "      <th></th>\n",
       "      <th>Unnamed: 0</th>\n",
       "      <th>Y1</th>\n",
       "      <th>Y3</th>\n",
       "      <th>Y4</th>\n",
       "      <th>Y5</th>\n",
       "    </tr>\n",
       "  </thead>\n",
       "  <tbody>\n",
       "    <tr>\n",
       "      <th>0</th>\n",
       "      <td>2013-01-01</td>\n",
       "      <td>0</td>\n",
       "      <td>5</td>\n",
       "      <td>0</td>\n",
       "      <td>0</td>\n",
       "    </tr>\n",
       "    <tr>\n",
       "      <th>1</th>\n",
       "      <td>2013-01-02</td>\n",
       "      <td>0</td>\n",
       "      <td>0</td>\n",
       "      <td>0</td>\n",
       "      <td>0</td>\n",
       "    </tr>\n",
       "    <tr>\n",
       "      <th>2</th>\n",
       "      <td>2013-01-03</td>\n",
       "      <td>0</td>\n",
       "      <td>0</td>\n",
       "      <td>0</td>\n",
       "      <td>0</td>\n",
       "    </tr>\n",
       "    <tr>\n",
       "      <th>3</th>\n",
       "      <td>2013-01-04</td>\n",
       "      <td>0</td>\n",
       "      <td>2</td>\n",
       "      <td>0</td>\n",
       "      <td>0</td>\n",
       "    </tr>\n",
       "    <tr>\n",
       "      <th>4</th>\n",
       "      <td>2013-01-05</td>\n",
       "      <td>0</td>\n",
       "      <td>0</td>\n",
       "      <td>0</td>\n",
       "      <td>0</td>\n",
       "    </tr>\n",
       "  </tbody>\n",
       "</table>\n",
       "</div>"
      ],
      "text/plain": [
       "   Unnamed: 0  Y1  Y3  Y4  Y5\n",
       "0  2013-01-01   0   5   0   0\n",
       "1  2013-01-02   0   0   0   0\n",
       "2  2013-01-03   0   0   0   0\n",
       "3  2013-01-04   0   2   0   0\n",
       "4  2013-01-05   0   0   0   0"
      ]
     },
     "execution_count": 12,
     "metadata": {},
     "output_type": "execute_result"
    }
   ],
   "source": [
    "y.head()"
   ]
  },
  {
   "cell_type": "code",
   "execution_count": 13,
   "id": "0e8a59bc",
   "metadata": {},
   "outputs": [
    {
     "data": {
      "application/vnd.microsoft.datawrangler.viewer.v0+json": {
       "columns": [
        {
         "name": "index",
         "rawType": "int64",
         "type": "integer"
        },
        {
         "name": "time",
         "rawType": "object",
         "type": "string"
        },
        {
         "name": "Y1",
         "rawType": "int64",
         "type": "integer"
        },
        {
         "name": "Y3",
         "rawType": "int64",
         "type": "integer"
        },
        {
         "name": "Y4",
         "rawType": "int64",
         "type": "integer"
        },
        {
         "name": "Y5",
         "rawType": "int64",
         "type": "integer"
        }
       ],
       "ref": "2c2db69e-292b-497d-b36c-04399da89357",
       "rows": [
        [
         "0",
         "2013-01-01",
         "0",
         "5",
         "0",
         "0"
        ],
        [
         "1",
         "2013-01-02",
         "0",
         "0",
         "0",
         "0"
        ],
        [
         "2",
         "2013-01-03",
         "0",
         "0",
         "0",
         "0"
        ],
        [
         "3",
         "2013-01-04",
         "0",
         "2",
         "0",
         "0"
        ],
        [
         "4",
         "2013-01-05",
         "0",
         "0",
         "0",
         "0"
        ],
        [
         "5",
         "2013-01-06",
         "0",
         "0",
         "0",
         "0"
        ],
        [
         "6",
         "2013-01-07",
         "0",
         "0",
         "0",
         "0"
        ],
        [
         "7",
         "2013-01-08",
         "0",
         "0",
         "0",
         "0"
        ],
        [
         "8",
         "2013-01-09",
         "0",
         "0",
         "0",
         "0"
        ],
        [
         "9",
         "2013-01-10",
         "0",
         "1",
         "0",
         "0"
        ],
        [
         "10",
         "2013-01-11",
         "0",
         "0",
         "0",
         "0"
        ],
        [
         "11",
         "2013-01-12",
         "0",
         "0",
         "0",
         "0"
        ],
        [
         "12",
         "2013-01-13",
         "0",
         "0",
         "0",
         "0"
        ],
        [
         "13",
         "2013-01-14",
         "0",
         "0",
         "3",
         "0"
        ],
        [
         "14",
         "2013-01-15",
         "0",
         "0",
         "0",
         "0"
        ],
        [
         "15",
         "2013-01-16",
         "0",
         "0",
         "22",
         "0"
        ],
        [
         "16",
         "2013-01-17",
         "0",
         "0",
         "7",
         "0"
        ],
        [
         "17",
         "2013-01-18",
         "0",
         "0",
         "0",
         "0"
        ],
        [
         "18",
         "2013-01-19",
         "0",
         "0",
         "19",
         "0"
        ],
        [
         "19",
         "2013-01-20",
         "0",
         "0",
         "0",
         "0"
        ],
        [
         "20",
         "2013-01-21",
         "0",
         "0",
         "38",
         "0"
        ],
        [
         "21",
         "2013-01-22",
         "0",
         "0",
         "11",
         "0"
        ],
        [
         "22",
         "2013-01-23",
         "0",
         "0",
         "182",
         "0"
        ],
        [
         "23",
         "2013-01-24",
         "0",
         "0",
         "0",
         "0"
        ],
        [
         "24",
         "2013-01-25",
         "1",
         "0",
         "0",
         "0"
        ],
        [
         "25",
         "2013-01-26",
         "0",
         "0",
         "2",
         "0"
        ],
        [
         "26",
         "2013-01-27",
         "0",
         "0",
         "0",
         "0"
        ],
        [
         "27",
         "2013-01-28",
         "0",
         "0",
         "0",
         "0"
        ],
        [
         "28",
         "2013-01-29",
         "0",
         "0",
         "1",
         "0"
        ],
        [
         "29",
         "2013-01-30",
         "0",
         "0",
         "0",
         "0"
        ],
        [
         "30",
         "2013-01-31",
         "0",
         "0",
         "0",
         "0"
        ],
        [
         "31",
         "2013-02-01",
         "0",
         "0",
         "3",
         "0"
        ],
        [
         "32",
         "2013-02-02",
         "0",
         "0",
         "8",
         "0"
        ],
        [
         "33",
         "2013-02-03",
         "0",
         "1",
         "0",
         "0"
        ],
        [
         "34",
         "2013-02-04",
         "0",
         "0",
         "0",
         "0"
        ],
        [
         "35",
         "2013-02-05",
         "0",
         "0",
         "0",
         "0"
        ],
        [
         "36",
         "2013-02-06",
         "0",
         "0",
         "0",
         "0"
        ],
        [
         "37",
         "2013-02-07",
         "0",
         "0",
         "3",
         "0"
        ],
        [
         "38",
         "2013-02-08",
         "0",
         "0",
         "1",
         "0"
        ],
        [
         "39",
         "2013-02-09",
         "0",
         "1",
         "2",
         "0"
        ],
        [
         "40",
         "2013-02-10",
         "0",
         "0",
         "0",
         "0"
        ],
        [
         "41",
         "2013-02-11",
         "0",
         "0",
         "0",
         "0"
        ],
        [
         "42",
         "2013-02-12",
         "0",
         "0",
         "0",
         "0"
        ],
        [
         "43",
         "2013-02-13",
         "0",
         "0",
         "1",
         "0"
        ],
        [
         "44",
         "2013-02-14",
         "0",
         "0",
         "0",
         "0"
        ],
        [
         "45",
         "2013-02-15",
         "0",
         "0",
         "0",
         "0"
        ],
        [
         "46",
         "2013-02-16",
         "0",
         "0",
         "0",
         "0"
        ],
        [
         "47",
         "2013-02-17",
         "0",
         "0",
         "0",
         "0"
        ],
        [
         "48",
         "2013-02-18",
         "0",
         "0",
         "0",
         "0"
        ],
        [
         "49",
         "2013-02-19",
         "0",
         "0",
         "1",
         "0"
        ]
       ],
       "shape": {
        "columns": 5,
        "rows": 2556
       }
      },
      "text/html": [
       "<div>\n",
       "<style scoped>\n",
       "    .dataframe tbody tr th:only-of-type {\n",
       "        vertical-align: middle;\n",
       "    }\n",
       "\n",
       "    .dataframe tbody tr th {\n",
       "        vertical-align: top;\n",
       "    }\n",
       "\n",
       "    .dataframe thead th {\n",
       "        text-align: right;\n",
       "    }\n",
       "</style>\n",
       "<table border=\"1\" class=\"dataframe\">\n",
       "  <thead>\n",
       "    <tr style=\"text-align: right;\">\n",
       "      <th></th>\n",
       "      <th>time</th>\n",
       "      <th>Y1</th>\n",
       "      <th>Y3</th>\n",
       "      <th>Y4</th>\n",
       "      <th>Y5</th>\n",
       "    </tr>\n",
       "  </thead>\n",
       "  <tbody>\n",
       "    <tr>\n",
       "      <th>0</th>\n",
       "      <td>2013-01-01</td>\n",
       "      <td>0</td>\n",
       "      <td>5</td>\n",
       "      <td>0</td>\n",
       "      <td>0</td>\n",
       "    </tr>\n",
       "    <tr>\n",
       "      <th>1</th>\n",
       "      <td>2013-01-02</td>\n",
       "      <td>0</td>\n",
       "      <td>0</td>\n",
       "      <td>0</td>\n",
       "      <td>0</td>\n",
       "    </tr>\n",
       "    <tr>\n",
       "      <th>2</th>\n",
       "      <td>2013-01-03</td>\n",
       "      <td>0</td>\n",
       "      <td>0</td>\n",
       "      <td>0</td>\n",
       "      <td>0</td>\n",
       "    </tr>\n",
       "    <tr>\n",
       "      <th>3</th>\n",
       "      <td>2013-01-04</td>\n",
       "      <td>0</td>\n",
       "      <td>2</td>\n",
       "      <td>0</td>\n",
       "      <td>0</td>\n",
       "    </tr>\n",
       "    <tr>\n",
       "      <th>4</th>\n",
       "      <td>2013-01-05</td>\n",
       "      <td>0</td>\n",
       "      <td>0</td>\n",
       "      <td>0</td>\n",
       "      <td>0</td>\n",
       "    </tr>\n",
       "    <tr>\n",
       "      <th>...</th>\n",
       "      <td>...</td>\n",
       "      <td>...</td>\n",
       "      <td>...</td>\n",
       "      <td>...</td>\n",
       "      <td>...</td>\n",
       "    </tr>\n",
       "    <tr>\n",
       "      <th>2551</th>\n",
       "      <td>2019-12-27</td>\n",
       "      <td>3</td>\n",
       "      <td>0</td>\n",
       "      <td>1</td>\n",
       "      <td>0</td>\n",
       "    </tr>\n",
       "    <tr>\n",
       "      <th>2552</th>\n",
       "      <td>2019-12-28</td>\n",
       "      <td>0</td>\n",
       "      <td>0</td>\n",
       "      <td>0</td>\n",
       "      <td>0</td>\n",
       "    </tr>\n",
       "    <tr>\n",
       "      <th>2553</th>\n",
       "      <td>2019-12-29</td>\n",
       "      <td>0</td>\n",
       "      <td>0</td>\n",
       "      <td>0</td>\n",
       "      <td>0</td>\n",
       "    </tr>\n",
       "    <tr>\n",
       "      <th>2554</th>\n",
       "      <td>2019-12-30</td>\n",
       "      <td>0</td>\n",
       "      <td>0</td>\n",
       "      <td>1</td>\n",
       "      <td>0</td>\n",
       "    </tr>\n",
       "    <tr>\n",
       "      <th>2555</th>\n",
       "      <td>2019-12-31</td>\n",
       "      <td>0</td>\n",
       "      <td>0</td>\n",
       "      <td>0</td>\n",
       "      <td>0</td>\n",
       "    </tr>\n",
       "  </tbody>\n",
       "</table>\n",
       "<p>2556 rows × 5 columns</p>\n",
       "</div>"
      ],
      "text/plain": [
       "            time  Y1  Y3  Y4  Y5\n",
       "0     2013-01-01   0   5   0   0\n",
       "1     2013-01-02   0   0   0   0\n",
       "2     2013-01-03   0   0   0   0\n",
       "3     2013-01-04   0   2   0   0\n",
       "4     2013-01-05   0   0   0   0\n",
       "...          ...  ..  ..  ..  ..\n",
       "2551  2019-12-27   3   0   1   0\n",
       "2552  2019-12-28   0   0   0   0\n",
       "2553  2019-12-29   0   0   0   0\n",
       "2554  2019-12-30   0   0   1   0\n",
       "2555  2019-12-31   0   0   0   0\n",
       "\n",
       "[2556 rows x 5 columns]"
      ]
     },
     "execution_count": 13,
     "metadata": {},
     "output_type": "execute_result"
    }
   ],
   "source": [
    "y.rename(columns={\"Unnamed: 0\" : \"time\"})"
   ]
  },
  {
   "cell_type": "code",
   "execution_count": 14,
   "id": "4c63c1d3",
   "metadata": {},
   "outputs": [],
   "source": [
    "y = y[\"Y1\"]"
   ]
  },
  {
   "cell_type": "code",
   "execution_count": 15,
   "id": "1ffa9706",
   "metadata": {},
   "outputs": [
    {
     "data": {
      "application/vnd.microsoft.datawrangler.viewer.v0+json": {
       "columns": [
        {
         "name": "index",
         "rawType": "int64",
         "type": "integer"
        },
        {
         "name": "Y1",
         "rawType": "int64",
         "type": "integer"
        }
       ],
       "ref": "7d7bacb0-ab3e-42b6-a933-eb3dbdd26a24",
       "rows": [
        [
         "0",
         "0"
        ],
        [
         "1",
         "0"
        ],
        [
         "2",
         "0"
        ],
        [
         "3",
         "0"
        ],
        [
         "4",
         "0"
        ],
        [
         "5",
         "0"
        ],
        [
         "6",
         "0"
        ],
        [
         "7",
         "0"
        ],
        [
         "8",
         "0"
        ],
        [
         "9",
         "0"
        ],
        [
         "10",
         "0"
        ],
        [
         "11",
         "0"
        ],
        [
         "12",
         "0"
        ],
        [
         "13",
         "0"
        ],
        [
         "14",
         "0"
        ],
        [
         "15",
         "0"
        ],
        [
         "16",
         "0"
        ],
        [
         "17",
         "0"
        ],
        [
         "18",
         "0"
        ],
        [
         "19",
         "0"
        ],
        [
         "20",
         "0"
        ],
        [
         "21",
         "0"
        ],
        [
         "22",
         "0"
        ],
        [
         "23",
         "0"
        ],
        [
         "24",
         "1"
        ],
        [
         "25",
         "0"
        ],
        [
         "26",
         "0"
        ],
        [
         "27",
         "0"
        ],
        [
         "28",
         "0"
        ],
        [
         "29",
         "0"
        ],
        [
         "30",
         "0"
        ],
        [
         "31",
         "0"
        ],
        [
         "32",
         "0"
        ],
        [
         "33",
         "0"
        ],
        [
         "34",
         "0"
        ],
        [
         "35",
         "0"
        ],
        [
         "36",
         "0"
        ],
        [
         "37",
         "0"
        ],
        [
         "38",
         "0"
        ],
        [
         "39",
         "0"
        ],
        [
         "40",
         "0"
        ],
        [
         "41",
         "0"
        ],
        [
         "42",
         "0"
        ],
        [
         "43",
         "0"
        ],
        [
         "44",
         "0"
        ],
        [
         "45",
         "0"
        ],
        [
         "46",
         "0"
        ],
        [
         "47",
         "0"
        ],
        [
         "48",
         "0"
        ],
        [
         "49",
         "0"
        ]
       ],
       "shape": {
        "columns": 1,
        "rows": 2556
       }
      },
      "text/plain": [
       "0       0\n",
       "1       0\n",
       "2       0\n",
       "3       0\n",
       "4       0\n",
       "       ..\n",
       "2551    3\n",
       "2552    0\n",
       "2553    0\n",
       "2554    0\n",
       "2555    0\n",
       "Name: Y1, Length: 2556, dtype: int64"
      ]
     },
     "execution_count": 15,
     "metadata": {},
     "output_type": "execute_result"
    }
   ],
   "source": [
    "y"
   ]
  },
  {
   "cell_type": "code",
   "execution_count": 19,
   "id": "3d7b9e77",
   "metadata": {},
   "outputs": [
    {
     "name": "stdout",
     "output_type": "stream",
     "text": [
      "{0, 1, 2, 3, 4, 5, 6, 7, 8, 9, 10, 11, 12, 13, 14, 15, 16, 17, 18, 19, 20, 21, 23, 24, 25, 26, 27, 28, 29, 30, 32, 33, 34, 35, 36, 37, 38, 39, 42, 43, 44, 45, 47, 48, 49, 50, 51, 52, 53, 54, 55, 56, 57, 60, 61, 62, 63, 65, 71, 72, 73, 79, 81, 84, 85, 87, 92, 94, 95, 96, 98, 100, 103, 109, 112, 113, 114, 119, 123, 126, 132, 135, 139, 168, 186, 227, 245, 256, 433}\n"
     ]
    }
   ],
   "source": [
    "print(set(y.values))"
   ]
  },
  {
   "cell_type": "code",
   "execution_count": 23,
   "id": "c46170e8",
   "metadata": {},
   "outputs": [
    {
     "data": {
      "text/plain": [
       "<Axes: >"
      ]
     },
     "execution_count": 23,
     "metadata": {},
     "output_type": "execute_result"
    },
    {
     "data": {
      "image/png": "[encoded data removed]",
      "text/plain": [
       "<Figure size 640x480 with 1 Axes>"
      ]
     },
     "metadata": {},
     "output_type": "display_data"
    }
   ],
   "source": [
    "y.hist(bins=50)"
   ]
  },
  {
   "cell_type": "code",
   "execution_count": 25,
   "id": "6b15c9fe",
   "metadata": {},
   "outputs": [
    {
     "data": {
      "application/vnd.microsoft.datawrangler.viewer.v0+json": {
       "columns": [
        {
         "name": "index",
         "rawType": "object",
         "type": "string"
        },
        {
         "name": "Y1",
         "rawType": "float64",
         "type": "float"
        }
       ],
       "ref": "682f4bea-50f7-4b4c-9148-a26cda9e2059",
       "rows": [
        [
         "count",
         "2556.0"
        ],
        [
         "mean",
         "3.525430359937402"
        ],
        [
         "std",
         "18.97753690181441"
        ],
        [
         "min",
         "0.0"
        ],
        [
         "25%",
         "0.0"
        ],
        [
         "50%",
         "0.0"
        ],
        [
         "75%",
         "0.0"
        ],
        [
         "max",
         "433.0"
        ]
       ],
       "shape": {
        "columns": 1,
        "rows": 8
       }
      },
      "text/plain": [
       "count    2556.000000\n",
       "mean        3.525430\n",
       "std        18.977537\n",
       "min         0.000000\n",
       "25%         0.000000\n",
       "50%         0.000000\n",
       "75%         0.000000\n",
       "max       433.000000\n",
       "Name: Y1, dtype: float64"
      ]
     },
     "execution_count": 25,
     "metadata": {},
     "output_type": "execute_result"
    }
   ],
   "source": [
    "y.describe()"
   ]
  },
  {
   "cell_type": "code",
   "execution_count": 32,
   "id": "c630659e",
   "metadata": {},
   "outputs": [],
   "source": [
    "y_bin = (y >= y.mean()).astype(int)"
   ]
  },
  {
   "cell_type": "code",
   "execution_count": 33,
   "id": "d35d7b34",
   "metadata": {},
   "outputs": [
    {
     "data": {
      "application/vnd.microsoft.datawrangler.viewer.v0+json": {
       "columns": [
        {
         "name": "index",
         "rawType": "int64",
         "type": "integer"
        },
        {
         "name": "Y1",
         "rawType": "int64",
         "type": "integer"
        }
       ],
       "ref": "2664457d-29a1-4e25-87d5-aa0cff134e46",
       "rows": [
        [
         "0",
         "0"
        ],
        [
         "1",
         "0"
        ],
        [
         "2",
         "0"
        ],
        [
         "3",
         "0"
        ],
        [
         "4",
         "0"
        ],
        [
         "5",
         "0"
        ],
        [
         "6",
         "0"
        ],
        [
         "7",
         "0"
        ],
        [
         "8",
         "0"
        ],
        [
         "9",
         "0"
        ],
        [
         "10",
         "0"
        ],
        [
         "11",
         "0"
        ],
        [
         "12",
         "0"
        ],
        [
         "13",
         "0"
        ],
        [
         "14",
         "0"
        ],
        [
         "15",
         "0"
        ],
        [
         "16",
         "0"
        ],
        [
         "17",
         "0"
        ],
        [
         "18",
         "0"
        ],
        [
         "19",
         "0"
        ],
        [
         "20",
         "0"
        ],
        [
         "21",
         "0"
        ],
        [
         "22",
         "0"
        ],
        [
         "23",
         "0"
        ],
        [
         "24",
         "0"
        ],
        [
         "25",
         "0"
        ],
        [
         "26",
         "0"
        ],
        [
         "27",
         "0"
        ],
        [
         "28",
         "0"
        ],
        [
         "29",
         "0"
        ],
        [
         "30",
         "0"
        ],
        [
         "31",
         "0"
        ],
        [
         "32",
         "0"
        ],
        [
         "33",
         "0"
        ],
        [
         "34",
         "0"
        ],
        [
         "35",
         "0"
        ],
        [
         "36",
         "0"
        ],
        [
         "37",
         "0"
        ],
        [
         "38",
         "0"
        ],
        [
         "39",
         "0"
        ],
        [
         "40",
         "0"
        ],
        [
         "41",
         "0"
        ],
        [
         "42",
         "0"
        ],
        [
         "43",
         "0"
        ],
        [
         "44",
         "0"
        ],
        [
         "45",
         "0"
        ],
        [
         "46",
         "0"
        ],
        [
         "47",
         "0"
        ],
        [
         "48",
         "0"
        ],
        [
         "49",
         "0"
        ]
       ],
       "shape": {
        "columns": 1,
        "rows": 2556
       }
      },
      "text/plain": [
       "0       0\n",
       "1       0\n",
       "2       0\n",
       "3       0\n",
       "4       0\n",
       "       ..\n",
       "2551    0\n",
       "2552    0\n",
       "2553    0\n",
       "2554    0\n",
       "2555    0\n",
       "Name: Y1, Length: 2556, dtype: int64"
      ]
     },
     "execution_count": 33,
     "metadata": {},
     "output_type": "execute_result"
    }
   ],
   "source": [
    "y_bin"
   ]
  },
  {
   "cell_type": "code",
   "execution_count": 34,
   "id": "35ac6c0d",
   "metadata": {},
   "outputs": [],
   "source": [
    "X = X.drop(columns=\"time\")"
   ]
  },
  {
   "cell_type": "code",
   "execution_count": 35,
   "id": "45ec4fee",
   "metadata": {},
   "outputs": [
    {
     "data": {
      "application/vnd.microsoft.datawrangler.viewer.v0+json": {
       "columns": [
        {
         "name": "index",
         "rawType": "int64",
         "type": "integer"
        },
        {
         "name": "t2m",
         "rawType": "float64",
         "type": "float"
        },
        {
         "name": "u10",
         "rawType": "float64",
         "type": "float"
        },
        {
         "name": "v10",
         "rawType": "float64",
         "type": "float"
        },
        {
         "name": "SST",
         "rawType": "float64",
         "type": "float"
        },
        {
         "name": "SIC",
         "rawType": "float64",
         "type": "float"
        },
        {
         "name": "r1_MAR",
         "rawType": "float64",
         "type": "float"
        },
        {
         "name": "r2_MAR",
         "rawType": "float64",
         "type": "float"
        },
        {
         "name": "r3_MAR",
         "rawType": "float64",
         "type": "float"
        },
        {
         "name": "r4_MAR",
         "rawType": "float64",
         "type": "float"
        },
        {
         "name": "r5_MAR",
         "rawType": "float64",
         "type": "float"
        }
       ],
       "ref": "b80acede-be36-42a0-ae01-46adc90103fd",
       "rows": [
        [
         "0",
         "-21.92693125626548",
         "-0.9739935626104376",
         "3.149093653775072",
         "-1.6905107319200852",
         "90.74570971797814",
         "0.0345365151682178",
         "0.03334509210234",
         "0.0",
         "0.0",
         "0.0"
        ],
        [
         "1",
         "-23.6961947187435",
         "-6.502907709842319",
         "2.4948936062963085",
         "-1.6905107319200852",
         "88.50297994135497",
         "0.0345271287431404",
         "0.033326095852561",
         "0.0",
         "0.0",
         "0.0"
        ],
        [
         "2",
         "-25.64402653532312",
         "-3.55741146266294",
         "1.0254857276328693",
         "-1.689860434103764",
         "88.734090839417",
         "0.0345231887020154",
         "0.0333209425659343",
         "0.0",
         "0.0",
         "0.0"
        ],
        [
         "3",
         "-23.56688660025614",
         "-1.8880747886393323",
         "-3.486121853684402",
         "-1.6905107319200852",
         "89.14957626975811",
         "0.0345085281352291",
         "0.0333061177014262",
         "0.0",
         "0.0",
         "0.0"
        ],
        [
         "4",
         "-22.897768399829403",
         "-2.7488438653980123",
         "-3.491206310011957",
         "-1.689860434103764",
         "91.61395504358136",
         "0.0344923109680408",
         "0.0332901264557072",
         "0.0",
         "0.0",
         "0.0"
        ],
        [
         "5",
         "-22.690464908286145",
         "-2.423417620894408",
         "-4.091172156663468",
         "-1.689860434103764",
         "91.94794958431568",
         "0.0344790826614824",
         "0.0332773181539602",
         "0.0",
         "0.0",
         "0.0"
        ],
        [
         "6",
         "-23.334952990905748",
         "-3.324170809605749",
         "-2.545497433086698",
         "-1.689860434103764",
         "93.2164549189518",
         "0.035187886068621",
         "0.0339642740473997",
         "0.0",
         "0.0",
         "0.0"
        ],
        [
         "7",
         "-26.60460112980076",
         "-4.69473731376086",
         "0.4170457871021025",
         "-1.689860434103764",
         "94.0389624522394",
         "0.1398432224499205",
         "0.1351031373794625",
         "0.0",
         "0.0",
         "0.0"
        ],
        [
         "8",
         "-29.55816275683773",
         "-2.837697447515037",
         "4.954075650057151",
         "-1.689860434103764",
         "93.51379899353766",
         "0.5039864291741407",
         "0.4870115859275275",
         "0.0",
         "0.0",
         "0.0"
        ],
        [
         "9",
         "-24.500778567109364",
         "-3.0465033654900457",
         "7.850520937987737",
         "-1.689860434103764",
         "88.08040352941171",
         "0.6702240712876427",
         "0.6476637131021836",
         "0.0",
         "0.0",
         "0.0"
        ],
        [
         "10",
         "-26.29056712776",
         "1.4117251172316838",
         "4.42020773566386",
         "-1.6905107319200852",
         "88.947260685423",
         "0.7200451862295162",
         "0.6958109346913597",
         "0.0",
         "0.0",
         "0.0"
        ],
        [
         "11",
         "-21.57595207751405",
         "-3.1786730688891205",
         "6.753973190011676",
         "-1.689860434103764",
         "86.84986892811185",
         "0.6632177774502072",
         "0.6408923108922138",
         "0.0",
         "0.0",
         "0.0"
        ],
        [
         "12",
         "-22.65967726102727",
         "-4.180497207258577",
         "5.9658824592406265",
         "-1.689860434103764",
         "91.84430135736932",
         "0.6586345884156839",
         "0.6364568858186496",
         "0.0",
         "0.0",
         "0.0"
        ],
        [
         "13",
         "-24.020491269870572",
         "-7.505842517988238",
         "4.471052298939412",
         "-1.689860434103764",
         "92.16783577468208",
         "0.7291840946874606",
         "0.7046359957767075",
         "0.0",
         "0.0",
         "0.0"
        ],
        [
         "14",
         "-25.36283269035852",
         "-8.672045783274191",
         "6.664147794891534",
         "-1.689860434103764",
         "89.98347015859692",
         "0.7385864018390783",
         "0.7137224025852499",
         "0.0",
         "0.0",
         "0.0"
        ],
        [
         "15",
         "-23.90144570046948",
         "-9.08188293078897",
         "6.135364336825798",
         "-1.6905107319200852",
         "85.36989168453213",
         "0.7392601332428462",
         "0.7143735155151943",
         "0.0",
         "0.0",
         "0.0"
        ],
        [
         "16",
         "-24.515146135830207",
         "-10.412465322991418",
         "3.930405109442713",
         "-1.689860434103764",
         "86.73377775352564",
         "0.7396016842119923",
         "0.7147035633900165",
         "0.0",
         "0.0",
         "0.0"
        ],
        [
         "17",
         "-27.14235870192286",
         "-3.2453132554768893",
         "5.016783944763665",
         "-1.689860434103764",
         "89.01177361853831",
         "0.7396432574611097",
         "0.7147528175268142",
         "0.0",
         "0.0",
         "0.0"
        ],
        [
         "18",
         "-27.8771572165019",
         "-1.4193721429720254",
         "3.0474045272239696",
         "-1.689860434103764",
         "86.47745583081716",
         "0.7398806109527732",
         "0.7150047608938773",
         "0.0",
         "0.0",
         "7.672609664790647e-08"
        ],
        [
         "19",
         "-27.53438807701949",
         "-3.153127664030476",
         "5.145590171728395",
         "-1.689860434103764",
         "93.15234686130624",
         "0.739593496290016",
         "0.714727321978626",
         "0.0",
         "0.0",
         "1.8645999686505665e-08"
        ],
        [
         "20",
         "-26.756486856278",
         "-3.51409534138089",
         "2.745726785122363",
         "-1.689860434103764",
         "86.27673372514438",
         "0.7390561880388029",
         "0.7142080605288349",
         "0.0",
         "0.0",
         "8.640961009830134e-08"
        ],
        [
         "21",
         "-22.856718203484206",
         "-7.589142751222949",
         "3.2423086864469166",
         "-1.689860434103764",
         "85.84295049739262",
         "0.7392227873723034",
         "0.7143690443411648",
         "0.0",
         "0.0",
         "1.2019591403089585e-07"
        ],
        [
         "22",
         "-19.248405944741336",
         "-10.445785416285302",
         "2.4559127744517184",
         "-1.689860434103764",
         "84.29043146804176",
         "0.7389768201990148",
         "0.7141313300079962",
         "0.0",
         "0.0",
         "0.0"
        ],
        [
         "23",
         "-19.796426065949703",
         "-9.202945936423417",
         "5.1099989774355095",
         "-1.689860434103764",
         "88.635812431033",
         "0.7385276330739391",
         "0.7136833494996374",
         "0.0",
         "0.0",
         "0.0"
        ],
        [
         "24",
         "-23.72903487581965",
         "-9.239598039046689",
         "7.159034877440236",
         "-1.689860434103764",
         "87.13177031781092",
         "0.7381523014438325",
         "0.7133164733236055",
         "0.0",
         "0.0",
         "0.0"
        ],
        [
         "25",
         "-23.757770013261307",
         "-7.450309029165098",
         "4.69646319612769",
         "-1.689860434103764",
         "87.97747626059646",
         "0.7372533544394918",
         "0.712434135965817",
         "0.0",
         "0.0",
         "0.0"
        ],
        [
         "26",
         "-27.156726270643677",
         "-5.619925237554383",
         "5.29812386155505",
         "-1.689860434103764",
         "85.98190374823396",
         "0.7374145202076052",
         "0.712589886724425",
         "0.0",
         "0.0",
         "0.0"
        ],
        [
         "27",
         "-27.138253682288337",
         "-1.4793483109010173",
         "3.3134910750326885",
         "-1.689860434103764",
         "82.85583658016787",
         "0.7371665975101878",
         "0.7123502937052906",
         "0.0",
         "0.0",
         "0.0"
        ],
        [
         "28",
         "-26.549183364734745",
         "-2.2190543820252504",
         "1.8356091024899897",
         "-1.689860434103764",
         "89.22116675280854",
         "0.7359000478019956",
         "0.7111262998213128",
         "0.0",
         "0.0",
         "0.0"
        ],
        [
         "29",
         "-23.94044338699743",
         "-3.882837707166544",
         "1.9084863098516145",
         "-1.6905107319200852",
         "84.43590667860047",
         "0.3151988016329309",
         "0.30456023019705",
         "0.0",
         "0.0",
         "0.0"
        ],
        [
         "30",
         "-26.88579497476536",
         "1.842664990499255",
         "3.866001995960348",
         "-1.6892101362874428",
         "88.28187805802294",
         "0.072466500717609",
         "0.0699835219368967",
         "0.0",
         "0.0",
         "0.0"
        ],
        [
         "31",
         "-29.77778130728456",
         "-0.9073533760226687",
         "4.638839357748731",
         "-1.689860434103764",
         "85.98000425327147",
         "0.0395135919125237",
         "0.0381379008648468",
         "0.0",
         "0.0",
         "0.0"
        ],
        [
         "32",
         "-29.00603761599484",
         "-1.1961275179030002",
         "0.9288810574093224",
         "-1.689860434103764",
         "81.50682106175803",
         "0.0350693687859666",
         "0.0338430635784091",
         "0.0",
         "0.0",
         "0.0"
        ],
        [
         "33",
         "-27.4769178021362",
         "-1.600411316535464",
         "1.098362934994494",
         "-1.689860434103764",
         "85.9583193883614",
         "0.0344331833402429",
         "0.0332272759171772",
         "0.0",
         "0.0",
         "0.0"
        ],
        [
         "34",
         "-28.942409811659783",
         "-0.6829980811771807",
         "4.782898953696128",
         "-1.689860434103764",
         "87.69879263958549",
         "0.0344474111894311",
         "0.0332457840924972",
         "0.0",
         "0.0",
         "1.1410569621177829e-07"
        ],
        [
         "35",
         "-28.25071400324319",
         "2.291375580190232",
         "3.732111312668064",
         "-1.689860434103764",
         "83.3206998073577",
         "0.0345820802686517",
         "0.0333843647450133",
         "0.0",
         "0.0",
         "2.1670928358104003e-08"
        ],
        [
         "36",
         "-27.111571054663955",
         "0.0278305757590193",
         "3.54229160977267",
         "-1.689860434103764",
         "88.34268044863009",
         "0.0343451671114986",
         "0.0331438008696193",
         "0.0",
         "0.0",
         "0.0"
        ],
        [
         "37",
         "-28.80078663426883",
         "-3.1098115427484263",
         "3.796514426150429",
         "-1.689860434103764",
         "89.92099601686972",
         "0.0345725104469788",
         "0.0333744781315937",
         "0.0",
         "0.0",
         "0.0"
        ],
        [
         "38",
         "-28.54011788747684",
         "-3.793984125049519",
         "5.628613522846136",
         "-1.689860434103764",
         "84.4264720880062",
         "0.0347482292369558",
         "0.0335536040116285",
         "0.0",
         "0.0",
         "0.0"
        ],
        [
         "39",
         "-29.65873573788346",
         "-3.4141350614992367",
         "5.065933689263364",
         "-1.689860434103764",
         "86.18344546837574",
         "0.0345181254452391",
         "0.0333189210866188",
         "0.0",
         "0.0",
         "0.0"
        ],
        [
         "40",
         "-30.301171310685817",
         "-1.404933435878009",
         "4.145647093975882",
         "-1.689860434103764",
         "85.65837584175027",
         "0.0342944900564125",
         "0.0330920351554523",
         "0.0",
         "0.0",
         "7.948192650442903e-09"
        ],
        [
         "41",
         "-29.515060050675288",
         "-0.456421446778767",
         "4.689683921024283",
         "-1.689860434103764",
         "83.11752543257104",
         "0.0342836580080388",
         "0.0330815328728437",
         "0.0",
         "0.0",
         "0.0"
        ],
        [
         "42",
         "-30.12670797621874",
         "-5.181210675851571",
         "5.362526975037415",
         "-1.689860434103764",
         "85.60654924332371",
         "0.0343032952468825",
         "0.0331004613965142",
         "0.0",
         "0.0",
         "0.0"
        ],
        [
         "43",
         "-29.84551413125413",
         "-6.906080838698319",
         "5.418455994640523",
         "-1.689860434103764",
         "86.74301342291929",
         "0.0343035819866459",
         "0.0331007122410558",
         "0.0",
         "0.0",
         "8.017318393946797e-08"
        ],
        [
         "44",
         "-29.1763959308274",
         "-2.873238880361847",
         "1.606808567750008",
         "-1.689860434103764",
         "85.21359628755106",
         "0.0343044985784689",
         "0.033101522594312",
         "0.0",
         "0.0",
         "4.721263931683198e-07"
        ],
        [
         "45",
         "-29.311861578766557",
         "3.280982351018597",
         "2.950799857000421",
         "-1.689860434103764",
         "89.67887615863222",
         "0.0342944894819119",
         "0.0330920345809517",
         "0.0",
         "0.0",
         "7.595879184212846e-08"
        ],
        [
         "46",
         "-28.092670747314173",
         "0.2532965403809701",
         "5.186265822348837",
         "-1.689860434103764",
         "92.52729991069894",
         "0.0342824200106116",
         "0.0330803882414824",
         "0.0",
         "0.0",
         "0.0"
        ],
        [
         "47",
         "-25.272522258399107",
         "2.595699098941042",
         "3.9490481159770834",
         "-1.689860434103764",
         "94.33672539495576",
         "0.0343015906823637",
         "0.0330988867766634",
         "0.0",
         "0.0",
         "0.0"
        ],
        [
         "48",
         "-24.55824884199265",
         "2.493517479506464",
         "1.6762961375599286",
         "-1.689860434103764",
         "95.1790669509604",
         "0.0343015856670287",
         "0.0330988818995249",
         "0.0",
         "0.0",
         "5.2701877578226606e-08"
        ],
        [
         "49",
         "-24.905123001109587",
         "0.0989134414526393",
         "1.010232358650203",
         "-1.6905107319200852",
         "93.0715565746994",
         "0.0343015906823637",
         "0.0330988867766634",
         "0.0",
         "0.0",
         "8.43670810032171e-08"
        ]
       ],
       "shape": {
        "columns": 10,
        "rows": 2556
       }
      },
      "text/html": [
       "<div>\n",
       "<style scoped>\n",
       "    .dataframe tbody tr th:only-of-type {\n",
       "        vertical-align: middle;\n",
       "    }\n",
       "\n",
       "    .dataframe tbody tr th {\n",
       "        vertical-align: top;\n",
       "    }\n",
       "\n",
       "    .dataframe thead th {\n",
       "        text-align: right;\n",
       "    }\n",
       "</style>\n",
       "<table border=\"1\" class=\"dataframe\">\n",
       "  <thead>\n",
       "    <tr style=\"text-align: right;\">\n",
       "      <th></th>\n",
       "      <th>t2m</th>\n",
       "      <th>u10</th>\n",
       "      <th>v10</th>\n",
       "      <th>SST</th>\n",
       "      <th>SIC</th>\n",
       "      <th>r1_MAR</th>\n",
       "      <th>r2_MAR</th>\n",
       "      <th>r3_MAR</th>\n",
       "      <th>r4_MAR</th>\n",
       "      <th>r5_MAR</th>\n",
       "    </tr>\n",
       "  </thead>\n",
       "  <tbody>\n",
       "    <tr>\n",
       "      <th>0</th>\n",
       "      <td>-21.926931</td>\n",
       "      <td>-0.973994</td>\n",
       "      <td>3.149094</td>\n",
       "      <td>-1.690511</td>\n",
       "      <td>90.745710</td>\n",
       "      <td>0.034537</td>\n",
       "      <td>0.033345</td>\n",
       "      <td>0.0</td>\n",
       "      <td>0.0</td>\n",
       "      <td>0.0</td>\n",
       "    </tr>\n",
       "    <tr>\n",
       "      <th>1</th>\n",
       "      <td>-23.696195</td>\n",
       "      <td>-6.502908</td>\n",
       "      <td>2.494894</td>\n",
       "      <td>-1.690511</td>\n",
       "      <td>88.502980</td>\n",
       "      <td>0.034527</td>\n",
       "      <td>0.033326</td>\n",
       "      <td>0.0</td>\n",
       "      <td>0.0</td>\n",
       "      <td>0.0</td>\n",
       "    </tr>\n",
       "    <tr>\n",
       "      <th>2</th>\n",
       "      <td>-25.644027</td>\n",
       "      <td>-3.557411</td>\n",
       "      <td>1.025486</td>\n",
       "      <td>-1.689860</td>\n",
       "      <td>88.734091</td>\n",
       "      <td>0.034523</td>\n",
       "      <td>0.033321</td>\n",
       "      <td>0.0</td>\n",
       "      <td>0.0</td>\n",
       "      <td>0.0</td>\n",
       "    </tr>\n",
       "    <tr>\n",
       "      <th>3</th>\n",
       "      <td>-23.566887</td>\n",
       "      <td>-1.888075</td>\n",
       "      <td>-3.486122</td>\n",
       "      <td>-1.690511</td>\n",
       "      <td>89.149576</td>\n",
       "      <td>0.034509</td>\n",
       "      <td>0.033306</td>\n",
       "      <td>0.0</td>\n",
       "      <td>0.0</td>\n",
       "      <td>0.0</td>\n",
       "    </tr>\n",
       "    <tr>\n",
       "      <th>4</th>\n",
       "      <td>-22.897768</td>\n",
       "      <td>-2.748844</td>\n",
       "      <td>-3.491206</td>\n",
       "      <td>-1.689860</td>\n",
       "      <td>91.613955</td>\n",
       "      <td>0.034492</td>\n",
       "      <td>0.033290</td>\n",
       "      <td>0.0</td>\n",
       "      <td>0.0</td>\n",
       "      <td>0.0</td>\n",
       "    </tr>\n",
       "    <tr>\n",
       "      <th>...</th>\n",
       "      <td>...</td>\n",
       "      <td>...</td>\n",
       "      <td>...</td>\n",
       "      <td>...</td>\n",
       "      <td>...</td>\n",
       "      <td>...</td>\n",
       "      <td>...</td>\n",
       "      <td>...</td>\n",
       "      <td>...</td>\n",
       "      <td>...</td>\n",
       "    </tr>\n",
       "    <tr>\n",
       "      <th>2551</th>\n",
       "      <td>-27.316822</td>\n",
       "      <td>1.597207</td>\n",
       "      <td>-0.091400</td>\n",
       "      <td>-1.689860</td>\n",
       "      <td>95.102792</td>\n",
       "      <td>0.466891</td>\n",
       "      <td>0.462179</td>\n",
       "      <td>0.0</td>\n",
       "      <td>0.0</td>\n",
       "      <td>0.0</td>\n",
       "    </tr>\n",
       "    <tr>\n",
       "      <th>2552</th>\n",
       "      <td>-27.998255</td>\n",
       "      <td>3.917396</td>\n",
       "      <td>0.498397</td>\n",
       "      <td>-1.690511</td>\n",
       "      <td>93.949257</td>\n",
       "      <td>0.466818</td>\n",
       "      <td>0.462108</td>\n",
       "      <td>0.0</td>\n",
       "      <td>0.0</td>\n",
       "      <td>0.0</td>\n",
       "    </tr>\n",
       "    <tr>\n",
       "      <th>2553</th>\n",
       "      <td>-23.289798</td>\n",
       "      <td>4.664877</td>\n",
       "      <td>2.332191</td>\n",
       "      <td>-1.689860</td>\n",
       "      <td>93.989076</td>\n",
       "      <td>0.417442</td>\n",
       "      <td>0.414464</td>\n",
       "      <td>0.0</td>\n",
       "      <td>0.0</td>\n",
       "      <td>0.0</td>\n",
       "    </tr>\n",
       "    <tr>\n",
       "      <th>2554</th>\n",
       "      <td>-25.674814</td>\n",
       "      <td>0.062261</td>\n",
       "      <td>3.760923</td>\n",
       "      <td>-1.689860</td>\n",
       "      <td>94.875746</td>\n",
       "      <td>0.306203</td>\n",
       "      <td>0.306203</td>\n",
       "      <td>0.0</td>\n",
       "      <td>0.0</td>\n",
       "      <td>0.0</td>\n",
       "    </tr>\n",
       "    <tr>\n",
       "      <th>2555</th>\n",
       "      <td>-25.219157</td>\n",
       "      <td>-2.973199</td>\n",
       "      <td>5.587938</td>\n",
       "      <td>-1.689860</td>\n",
       "      <td>96.787318</td>\n",
       "      <td>0.306346</td>\n",
       "      <td>0.306346</td>\n",
       "      <td>0.0</td>\n",
       "      <td>0.0</td>\n",
       "      <td>0.0</td>\n",
       "    </tr>\n",
       "  </tbody>\n",
       "</table>\n",
       "<p>2556 rows × 10 columns</p>\n",
       "</div>"
      ],
      "text/plain": [
       "            t2m       u10       v10       SST        SIC    r1_MAR    r2_MAR  \\\n",
       "0    -21.926931 -0.973994  3.149094 -1.690511  90.745710  0.034537  0.033345   \n",
       "1    -23.696195 -6.502908  2.494894 -1.690511  88.502980  0.034527  0.033326   \n",
       "2    -25.644027 -3.557411  1.025486 -1.689860  88.734091  0.034523  0.033321   \n",
       "3    -23.566887 -1.888075 -3.486122 -1.690511  89.149576  0.034509  0.033306   \n",
       "4    -22.897768 -2.748844 -3.491206 -1.689860  91.613955  0.034492  0.033290   \n",
       "...         ...       ...       ...       ...        ...       ...       ...   \n",
       "2551 -27.316822  1.597207 -0.091400 -1.689860  95.102792  0.466891  0.462179   \n",
       "2552 -27.998255  3.917396  0.498397 -1.690511  93.949257  0.466818  0.462108   \n",
       "2553 -23.289798  4.664877  2.332191 -1.689860  93.989076  0.417442  0.414464   \n",
       "2554 -25.674814  0.062261  3.760923 -1.689860  94.875746  0.306203  0.306203   \n",
       "2555 -25.219157 -2.973199  5.587938 -1.689860  96.787318  0.306346  0.306346   \n",
       "\n",
       "      r3_MAR  r4_MAR  r5_MAR  \n",
       "0        0.0     0.0     0.0  \n",
       "1        0.0     0.0     0.0  \n",
       "2        0.0     0.0     0.0  \n",
       "3        0.0     0.0     0.0  \n",
       "4        0.0     0.0     0.0  \n",
       "...      ...     ...     ...  \n",
       "2551     0.0     0.0     0.0  \n",
       "2552     0.0     0.0     0.0  \n",
       "2553     0.0     0.0     0.0  \n",
       "2554     0.0     0.0     0.0  \n",
       "2555     0.0     0.0     0.0  \n",
       "\n",
       "[2556 rows x 10 columns]"
      ]
     },
     "execution_count": 35,
     "metadata": {},
     "output_type": "execute_result"
    }
   ],
   "source": [
    "X"
   ]
  },
  {
   "cell_type": "code",
   "execution_count": 36,
   "id": "d90fb1d0",
   "metadata": {},
   "outputs": [
    {
     "data": {
      "application/vnd.microsoft.datawrangler.viewer.v0+json": {
       "columns": [
        {
         "name": "index",
         "rawType": "object",
         "type": "string"
        },
        {
         "name": "0",
         "rawType": "object",
         "type": "unknown"
        }
       ],
       "ref": "e23401a3-0321-4cb4-90d8-212fd5a47edc",
       "rows": [
        [
         "t2m",
         "float64"
        ],
        [
         "u10",
         "float64"
        ],
        [
         "v10",
         "float64"
        ],
        [
         "SST",
         "float64"
        ],
        [
         "SIC",
         "float64"
        ],
        [
         "r1_MAR",
         "float64"
        ],
        [
         "r2_MAR",
         "float64"
        ],
        [
         "r3_MAR",
         "float64"
        ],
        [
         "r4_MAR",
         "float64"
        ],
        [
         "r5_MAR",
         "float64"
        ]
       ],
       "shape": {
        "columns": 1,
        "rows": 10
       }
      },
      "text/plain": [
       "t2m       float64\n",
       "u10       float64\n",
       "v10       float64\n",
       "SST       float64\n",
       "SIC       float64\n",
       "r1_MAR    float64\n",
       "r2_MAR    float64\n",
       "r3_MAR    float64\n",
       "r4_MAR    float64\n",
       "r5_MAR    float64\n",
       "dtype: object"
      ]
     },
     "execution_count": 36,
     "metadata": {},
     "output_type": "execute_result"
    }
   ],
   "source": [
    "X.dtypes"
   ]
  },
  {
   "cell_type": "code",
   "execution_count": 47,
   "id": "218aebb1",
   "metadata": {},
   "outputs": [
    {
     "data": {
      "text/plain": [
       "(2556, 10)"
      ]
     },
     "execution_count": 47,
     "metadata": {},
     "output_type": "execute_result"
    }
   ],
   "source": [
    "X.shape"
   ]
  },
  {
   "cell_type": "code",
   "execution_count": null,
   "id": "e4f94dbe",
   "metadata": {},
   "outputs": [
    {
     "data": {
      "image/png": "[encoded data removed]",
      "text/plain": [
       "<Figure size 1600x900 with 10 Axes>"
      ]
     },
     "metadata": {},
     "output_type": "display_data"
    }
   ],
   "source": [
    "n_features = X.shape[1]\n",
    "n_cols = 4  \n",
    "n_rows = int(np.ceil(n_features / n_cols))  \n",
    "\n",
    "fig, axes = plt.subplots(n_rows, n_cols, figsize=(16, 3 * n_rows))\n",
    "\n",
    "axes = axes.flatten()\n",
    "\n",
    "for i, col in enumerate(X.columns):\n",
    "    axes[i].hist(X[col], bins=30, color='skyblue', edgecolor='black')\n",
    "    axes[i].set_title(col)\n",
    "    axes[i].grid(alpha=0.3)\n",
    "\n",
    "for j in range(i + 1, len(axes)):\n",
    "    fig.delaxes(axes[j])\n",
    "\n",
    "plt.tight_layout()\n",
    "plt.show()"
   ]
  },
  {
   "cell_type": "markdown",
   "id": "fb7862a8",
   "metadata": {},
   "source": [
    "# Test of different models"
   ]
  },
  {
   "cell_type": "markdown",
   "id": "e0a67bd1",
   "metadata": {},
   "source": [
    "## Naive Bayes"
   ]
  },
  {
   "cell_type": "markdown",
   "id": "4c876e2e",
   "metadata": {},
   "source": [
    "### 1st try"
   ]
  },
  {
   "cell_type": "code",
   "execution_count": 51,
   "id": "0969ee61",
   "metadata": {},
   "outputs": [],
   "source": [
    "from sklearn.naive_bayes import GaussianNB\n",
    "\n",
    "X_train, X_test, y_train, y_test = train_test_split(X,y_bin,test_size=0.2,random_state=42)\n",
    "\n",
    "model = GaussianNB()\n",
    "model.fit(X_train,y_train)\n",
    "y_pred = model.predict(X_test)"
   ]
  },
  {
   "cell_type": "code",
   "execution_count": 53,
   "id": "67b77111",
   "metadata": {},
   "outputs": [
    {
     "name": "stdout",
     "output_type": "stream",
     "text": [
      "0.955078125\n",
      "0.6274509803921569\n",
      "0.8888888888888888\n",
      "0.735632183908046\n"
     ]
    }
   ],
   "source": [
    "print(accuracy_score(y_test,y_pred))\n",
    "print(precision_score(y_test,y_pred))\n",
    "print(recall_score(y_test,y_pred))\n",
    "print(f1_score(y_test,y_pred))"
   ]
  },
  {
   "cell_type": "markdown",
   "id": "70882d45",
   "metadata": {},
   "source": [
    "### Cross Validation"
   ]
  },
  {
   "cell_type": "code",
   "execution_count": 55,
   "id": "a1eeb9ab",
   "metadata": {},
   "outputs": [],
   "source": [
    "kf = KFold(n_splits=5)\n",
    "\n",
    "kf.get_n_splits(X)\n",
    "\n",
    "scoring = {\n",
    "    'accuracy': 'accuracy',\n",
    "    'auc': 'roc_auc',\n",
    "    'f1': 'f1',\n",
    "    'precision': 'precision',\n",
    "    'recall': 'recall'\n",
    "}\n",
    "\n",
    "cv_results = cross_validate(model, X, y_bin, cv=kf, scoring=scoring, return_train_score=True)"
   ]
  },
  {
   "cell_type": "code",
   "execution_count": 56,
   "id": "97f33fb5",
   "metadata": {},
   "outputs": [
    {
     "data": {
      "text/plain": [
       "{'fit_time': array([0.00394487, 0.00101399, 0.00076103, 0.00074387, 0.0006671 ]),\n",
       " 'score_time': array([0.00873017, 0.00440812, 0.0043211 , 0.00354886, 0.00382781]),\n",
       " 'test_accuracy': array([0.95507812, 0.95890411, 0.97260274, 0.89823875, 0.94324853]),\n",
       " 'train_accuracy': array([0.94520548, 0.9393643 , 0.9393643 , 0.95452323, 0.94425428]),\n",
       " 'test_auc': array([0.87338529, 0.97530769, 0.97611111, 0.87309572, 0.9556025 ]),\n",
       " 'train_auc': array([0.96120796, 0.93894148, 0.94454545, 0.95830575, 0.94976212]),\n",
       " 'test_f1': array([0.5106383 , 0.8742515 , 0.83333333, 0.2972973 , 0.78195489]),\n",
       " 'train_f1': array([0.75111111, 0.6374269 , 0.70334928, 0.7881549 , 0.69354839]),\n",
       " 'test_precision': array([0.42857143, 0.78494624, 0.72916667, 0.18333333, 0.69333333]),\n",
       " 'train_precision': array([0.63059701, 0.50697674, 0.58102767, 0.68650794, 0.56331878]),\n",
       " 'test_recall': array([0.63157895, 0.98648649, 0.97222222, 0.78571429, 0.89655172]),\n",
       " 'train_recall': array([0.92857143, 0.85826772, 0.89090909, 0.92513369, 0.9020979 ])}"
      ]
     },
     "execution_count": 56,
     "metadata": {},
     "output_type": "execute_result"
    }
   ],
   "source": [
    "cv_results"
   ]
  },
  {
   "cell_type": "code",
   "execution_count": 57,
   "id": "ce1da67e",
   "metadata": {},
   "outputs": [
    {
     "data": {
      "image/png": "[encoded data removed]",
      "text/plain": [
       "<Figure size 1000x500 with 1 Axes>"
      ]
     },
     "metadata": {},
     "output_type": "display_data"
    }
   ],
   "source": [
    "keys = [key for key in cv_results.keys() if key.startswith('test') or key.startswith('train')]\n",
    "values = [cv_results[key] for key in keys]\n",
    "\n",
    "plt.figure(figsize=(10, 5))\n",
    "plt.boxplot(values)\n",
    "plt.xticks(range(1, len(keys) + 1), keys, rotation=45)\n",
    "plt.title(\"Distribution des scores de cross-validation (train/test)\")\n",
    "plt.ylabel(\"Score\")\n",
    "plt.grid(True, alpha=0.3)\n",
    "plt.show()"
   ]
  },
  {
   "cell_type": "markdown",
   "id": "ee2e5c05",
   "metadata": {},
   "source": [
    "### Normalization of the data"
   ]
  },
  {
   "cell_type": "code",
   "execution_count": 60,
   "id": "21946236",
   "metadata": {},
   "outputs": [],
   "source": [
    "model = make_pipeline(StandardScaler(), GaussianNB())\n",
    "model.fit(X_train,y_train)\n",
    "y_pred = model.predict(X_test)"
   ]
  },
  {
   "cell_type": "code",
   "execution_count": 61,
   "id": "e5c34fa7",
   "metadata": {},
   "outputs": [
    {
     "name": "stdout",
     "output_type": "stream",
     "text": [
      "0.955078125\n",
      "0.6274509803921569\n",
      "0.8888888888888888\n",
      "0.735632183908046\n"
     ]
    }
   ],
   "source": [
    "print(accuracy_score(y_test,y_pred))\n",
    "print(precision_score(y_test,y_pred))\n",
    "print(recall_score(y_test,y_pred))\n",
    "print(f1_score(y_test,y_pred))"
   ]
  },
  {
   "cell_type": "markdown",
   "id": "da314bce",
   "metadata": {},
   "source": [
    "### Metrics : Confusion Matrix, ROC Indicator and AUC curb"
   ]
  },
  {
   "cell_type": "code",
   "execution_count": 64,
   "id": "7d0fddfd",
   "metadata": {},
   "outputs": [
    {
     "data": {
      "text/plain": [
       "array([[457,  19],\n",
       "       [  4,  32]])"
      ]
     },
     "execution_count": 64,
     "metadata": {},
     "output_type": "execute_result"
    }
   ],
   "source": [
    "confusion_matrix(y_test,y_pred)"
   ]
  },
  {
   "cell_type": "code",
   "execution_count": 67,
   "id": "8fea28ba",
   "metadata": {},
   "outputs": [
    {
     "data": {
      "text/plain": [
       "0.951726505476862"
      ]
     },
     "execution_count": 67,
     "metadata": {},
     "output_type": "execute_result"
    }
   ],
   "source": [
    "y_score = model.predict_proba(X)[:, 1]\n",
    "fpr, tpr, thresholds = roc_curve(y_bin, y_score)\n",
    "auc(fpr,tpr)"
   ]
  },
  {
   "cell_type": "code",
   "execution_count": 68,
   "id": "a7a3fc03",
   "metadata": {},
   "outputs": [
    {
     "data": {
      "image/png": "[encoded data removed]",
      "text/plain": [
       "<Figure size 1000x600 with 1 Axes>"
      ]
     },
     "metadata": {},
     "output_type": "display_data"
    }
   ],
   "source": [
    "y_proba= model.predict_proba(X)[:,1];\n",
    "fpr, tpr, thresholds= roc_curve(y_bin, y_proba);\n",
    "figure= plt.figure(figsize=(10,6));\n",
    "plt.plot(fpr,tpr, linewidth= 2);\n",
    "plt.title('Naive Bayes. Roc curve')\n",
    "plt.xlabel('fpr');plt.ylabel('tpr')\n",
    "plt.plot(tpr,tpr,\"k--\", linewidth= 2)\n",
    "plt.grid(linestyle= 'dashed') \n",
    "plt.show()"
   ]
  },
  {
   "cell_type": "markdown",
   "id": "30070698",
   "metadata": {},
   "source": [
    "## Linear Discriminant Analysis"
   ]
  },
  {
   "cell_type": "markdown",
   "id": "25b79be1",
   "metadata": {},
   "source": [
    "### 1st attempt"
   ]
  },
  {
   "cell_type": "code",
   "execution_count": 70,
   "id": "4872d160",
   "metadata": {},
   "outputs": [],
   "source": [
    "X_train, X_test, y_train, y_test = train_test_split(X,y_bin,test_size=0.2,random_state=42)\n",
    "\n",
    "lda = LinearDiscriminantAnalysis(n_components=1, store_covariance=True)\n",
    "\n",
    "lda.fit(X_train,y_train)\n",
    "y_pred_train = lda.predict(X_train)\n",
    "y_pred = lda.predict(X_test)"
   ]
  },
  {
   "cell_type": "code",
   "execution_count": 71,
   "id": "5cb32f08",
   "metadata": {},
   "outputs": [
    {
     "name": "stdout",
     "output_type": "stream",
     "text": [
      "Accuracy: 0.972\n",
      "Precision: 0.971\n",
      "Recall: 0.972\n",
      "F1-score: 0.971\n",
      "\n",
      "Classification Report:\n",
      "               precision    recall  f1-score   support\n",
      "\n",
      "           0       0.98      0.99      0.98      1879\n",
      "           1       0.83      0.81      0.82       165\n",
      "\n",
      "    accuracy                           0.97      2044\n",
      "   macro avg       0.91      0.90      0.90      2044\n",
      "weighted avg       0.97      0.97      0.97      2044\n",
      "\n"
     ]
    }
   ],
   "source": [
    "acc = accuracy_score(y_train, y_pred_train)\n",
    "prec = precision_score(y_train, y_pred_train, average='weighted')\n",
    "rec = recall_score(y_train, y_pred_train, average='weighted')\n",
    "f1 = f1_score(y_train, y_pred_train, average='weighted')\n",
    "\n",
    "print(f\"Accuracy: {acc:.3f}\")\n",
    "print(f\"Precision: {prec:.3f}\")\n",
    "print(f\"Recall: {rec:.3f}\")\n",
    "print(f\"F1-score: {f1:.3f}\")\n",
    "\n",
    "print(\"\\nClassification Report:\\n\", classification_report(y_train, y_pred_train))"
   ]
  },
  {
   "cell_type": "code",
   "execution_count": 72,
   "id": "eacb3a00",
   "metadata": {},
   "outputs": [
    {
     "name": "stdout",
     "output_type": "stream",
     "text": [
      "Accuracy: 0.971\n",
      "Precision: 0.973\n",
      "Recall: 0.971\n",
      "F1-score: 0.972\n",
      "\n",
      "Classification Report:\n",
      "               precision    recall  f1-score   support\n",
      "\n",
      "           0       0.99      0.98      0.98       476\n",
      "           1       0.76      0.86      0.81        36\n",
      "\n",
      "    accuracy                           0.97       512\n",
      "   macro avg       0.87      0.92      0.89       512\n",
      "weighted avg       0.97      0.97      0.97       512\n",
      "\n"
     ]
    }
   ],
   "source": [
    "acc = accuracy_score(y_test, y_pred)\n",
    "prec = precision_score(y_test, y_pred, average='weighted')\n",
    "rec = recall_score(y_test, y_pred, average='weighted')\n",
    "f1 = f1_score(y_test, y_pred, average='weighted')\n",
    "\n",
    "print(f\"Accuracy: {acc:.3f}\")\n",
    "print(f\"Precision: {prec:.3f}\")\n",
    "print(f\"Recall: {rec:.3f}\")\n",
    "print(f\"F1-score: {f1:.3f}\")\n",
    "\n",
    "print(\"\\nClassification Report:\\n\", classification_report(y_test, y_pred))"
   ]
  },
  {
   "cell_type": "markdown",
   "id": "9a73e7cc",
   "metadata": {},
   "source": [
    "### Cross Validation"
   ]
  },
  {
   "cell_type": "code",
   "execution_count": 76,
   "id": "f3c92976",
   "metadata": {},
   "outputs": [],
   "source": [
    "kf = KFold(n_splits=5)\n",
    "\n",
    "kf.get_n_splits(X)\n",
    "\n",
    "scoring = {\n",
    "    'accuracy': 'accuracy',\n",
    "    'auc': 'roc_auc',\n",
    "    'f1': 'f1',\n",
    "    'precision': 'precision',\n",
    "    'recall': 'recall'\n",
    "}\n",
    "\n",
    "cv_results = cross_validate(lda, X, y_bin, cv=kf, scoring=scoring, return_train_score=True)"
   ]
  },
  {
   "cell_type": "code",
   "execution_count": 77,
   "id": "0e712719",
   "metadata": {},
   "outputs": [
    {
     "data": {
      "text/plain": [
       "{'fit_time': array([0.01131129, 0.00389624, 0.00170588, 0.00193   , 0.00174403]),\n",
       " 'score_time': array([0.01973987, 0.00486279, 0.00336289, 0.00358105, 0.0042491 ]),\n",
       " 'test_accuracy': array([0.95898438, 0.95890411, 0.98043053, 0.95694716, 0.97260274]),\n",
       " 'train_accuracy': array([0.9721135 , 0.97066015, 0.96772616, 0.97359413, 0.96919315]),\n",
       " 'test_auc': array([0.728515  , 0.98759973, 0.97140351, 0.89192297, 0.95231027]),\n",
       " 'train_auc': array([0.96990711, 0.94115836, 0.94280787, 0.96084284, 0.95376968]),\n",
       " 'test_f1': array([0.4       , 0.84671533, 0.86111111, 0.42105263, 0.87719298]),\n",
       " 'train_f1': array([0.84297521, 0.76190476, 0.79878049, 0.85326087, 0.78498294]),\n",
       " 'test_precision': array([0.4375    , 0.92063492, 0.86111111, 0.33333333, 0.89285714]),\n",
       " 'train_precision': array([0.84530387, 0.768     , 0.80368098, 0.86740331, 0.76666667]),\n",
       " 'test_recall': array([0.36842105, 0.78378378, 0.86111111, 0.57142857, 0.86206897]),\n",
       " 'train_recall': array([0.84065934, 0.75590551, 0.79393939, 0.83957219, 0.8041958 ])}"
      ]
     },
     "execution_count": 77,
     "metadata": {},
     "output_type": "execute_result"
    }
   ],
   "source": [
    "cv_results"
   ]
  },
  {
   "cell_type": "code",
   "execution_count": 78,
   "id": "d8d8e521",
   "metadata": {},
   "outputs": [
    {
     "data": {
      "image/png": "[encoded data removed]",
      "text/plain": [
       "<Figure size 1000x500 with 1 Axes>"
      ]
     },
     "metadata": {},
     "output_type": "display_data"
    }
   ],
   "source": [
    "keys = [key for key in cv_results.keys() if key.startswith('test') or key.startswith('train')]\n",
    "values = [cv_results[key] for key in keys]\n",
    "\n",
    "plt.figure(figsize=(10, 5))\n",
    "plt.boxplot(values)\n",
    "plt.xticks(range(1, len(keys) + 1), keys, rotation=45)\n",
    "plt.title(\"Distribution des scores de cross-validation (train/test)\")\n",
    "plt.ylabel(\"Score\")\n",
    "plt.grid(True, alpha=0.3)\n",
    "plt.show()"
   ]
  },
  {
   "cell_type": "markdown",
   "id": "1e8f8e58",
   "metadata": {},
   "source": [
    "### AUC Curb"
   ]
  },
  {
   "cell_type": "code",
   "execution_count": 79,
   "id": "ad7336c7",
   "metadata": {},
   "outputs": [
    {
     "data": {
      "image/png": "[encoded data removed]",
      "text/plain": [
       "<Figure size 1000x600 with 1 Axes>"
      ]
     },
     "metadata": {},
     "output_type": "display_data"
    }
   ],
   "source": [
    "y_proba= lda.predict_proba(X)[:,1];\n",
    "fpr, tpr, thresholds= roc_curve(y_bin, y_proba);\n",
    "figure= plt.figure(figsize=(10,6));\n",
    "plt.plot(fpr,tpr, linewidth= 2);\n",
    "plt.title('Naive Bayes. Roc curve')\n",
    "plt.xlabel('fpr');plt.ylabel('tpr')\n",
    "plt.plot(tpr,tpr,\"k--\", linewidth= 2)\n",
    "plt.grid(linestyle= 'dashed') \n",
    "plt.show()"
   ]
  },
  {
   "cell_type": "markdown",
   "id": "27034737",
   "metadata": {},
   "source": [
    "## Quadratic Discriminant Analysis"
   ]
  },
  {
   "cell_type": "code",
   "execution_count": null,
   "id": "b8308671",
   "metadata": {},
   "outputs": [],
   "source": [
    "X_train, X_test, y_train, y_test = train_test_split(X,y_bin, test_size=0.2, random_state=42)"
   ]
  }
 ],
 "metadata": {
  "kernelspec": {
   "display_name": "ml_env",
   "language": "python",
   "name": "python3"
  },
  "language_info": {
   "codemirror_mode": {
    "name": "ipython",
    "version": 3
   },
   "file_extension": ".py",
   "mimetype": "text/x-python",
   "name": "python",
   "nbconvert_exporter": "python",
   "pygments_lexer": "ipython3",
   "version": "3.10.15"
  }
 },
 "nbformat": 4,
 "nbformat_minor": 5
}
